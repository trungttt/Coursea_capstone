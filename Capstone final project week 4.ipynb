{
 "cells": [
  {
   "cell_type": "markdown",
   "metadata": {},
   "source": [
    "Peer-graded Assignment\n",
    "\n",
    "# Introduction\n",
    "\n",
    "## 1.\tDescription of the Problem\n",
    "\n",
    "Being the capital of one of the most prosperity Scandinavian countries, Oslo is facing ever changing reforms and new challenges. One of which is in the food industry, it is quite hard for potential business owners to find a suitable location for their business. Because most of the central and desired locations have already been taken. In addition, the rental pricing in Oslo or in Norway as whole is quite expensive, meaning that the location plays even a bigger role than it already does. This leads to finding a suitable location is quite a demanding task. This applies both for a new location or taking over an established one. However, the challenge makes the task even more attracting. I will try to use as much location data to build a portfolio to find the best suited location for a new restaurant in Oslo. \n",
    "\n",
    "## 2.\t Discussion of the Background\n",
    "\n",
    "My client, who is a very great chef and an intelligent businessman. He already owes a restaurant in Oslo city center serving amazing food. His goal is to find better locations to expand his business into a chain restaurant within Oslo commune. Being the one with the experience in this business, he understands that the location among other factors plays one of the most significant roles in the successfulness of a restaurant.  \n",
    "These are the client’s requirements: They should be in the topmost populated boroughs in Oslo.  The population in those areas should be higher than 55.000 people. They should also be close to public transportation since Oslo is a green city. The locations should be located closed to shopping centers. Are there many venues in the 500 to 700-meter radius of these locations? The renting budget is not an issue. \n",
    "This is a personal-customer oriented project. However, given the scope of the projects, it could target a wide range of audience with different requirements because the criteria could be adjusted accordingly. \n",
    "\n",
    "## 3.\tA description of the data and how it will be used to solve the problem\n",
    "\n",
    "This project will rely on public data from 'citypopulation.de' website and Foursquare. \n",
    "\n",
    "1. Information of Oslo boroughs and population can be obtained from 'citypopulation.de' to judge the location with the topmost populated boroughs.\n",
    "2. After the topmost populated boroughs have been identified, Foursquare will be utilized to find the venues within the 1000-meter radius around the center of each borough. These venues could be like cinemas or centers (shopping or fitness) or public parks or famous tourist attractions etc,. These should be the priorities to choose locations for restaurants. Because it will increase the visibility and attract more customers to the potential restaurants.\n",
    "3. after choosing the potential locations, I will use Geo-location data from Foursquare to see if there are public transportations around the locations. Because Oslo is a green city and there are many people who use public transportation here. \n",
    "4. Utilizing Foursquare to find out other restaurants, shopping events, nightlife events etc., in the 500-meter radius to find out what kinds of businesses are in the area and if there will any potential for restaurant concept\n",
    "5. Map with geo-location data will be generated with potential locations to be presented to the client. "
   ]
  }
 ],
 "metadata": {
  "kernelspec": {
   "display_name": "Python",
   "language": "python",
   "name": "conda-env-python-py"
  },
  "language_info": {
   "codemirror_mode": {
    "name": "ipython",
    "version": 3
   },
   "file_extension": ".py",
   "mimetype": "text/x-python",
   "name": "python",
   "nbconvert_exporter": "python",
   "pygments_lexer": "ipython3",
   "version": "3.6.7"
  }
 },
 "nbformat": 4,
 "nbformat_minor": 4
}
